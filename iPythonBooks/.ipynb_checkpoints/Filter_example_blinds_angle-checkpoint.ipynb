{
 "cells": [
  {
   "cell_type": "code",
   "execution_count": 11,
   "metadata": {
    "collapsed": true
   },
   "outputs": [],
   "source": [
    "from pymongo import MongoClient\n",
    "import matplotlib as plt\n",
    "import sys\n",
    "sys.path.append('lib')\n",
    "import rs_common_framework_v1 as rs\n",
    "import plotly.plotly as py\n",
    "import plotly.graph_objs as go\n",
    "import pandas"
   ]
  },
  {
   "cell_type": "code",
   "execution_count": 12,
   "metadata": {
    "collapsed": true
   },
   "outputs": [],
   "source": [
    "connection = MongoClient(\"192.168.6.132\")\n",
    "collection_metadata = connection[\"Roberto\"][\"metadata\"]\n",
    "collection_series = connection[\"Roberto\"][\"ede2\"]\n",
    "collection_filtered = connection[\"Roberto\"][\"filter_data\"]\n",
    "collection_register = connection[\"Roberto\"][\"filter_register\"]\n",
    "collection_daily = connection[\"Roberto\"][\"daily\"]"
   ]
  },
  {
   "cell_type": "code",
   "execution_count": 13,
   "metadata": {
    "collapsed": true
   },
   "outputs": [],
   "source": [
    "QUERY_TAG = \"id: t7\"\n",
    "tag = rs.get_tag_names(collection_metadata, QUERY_TAG)\n",
    "projection = tag[0]"
   ]
  },
  {
   "cell_type": "code",
   "execution_count": 14,
   "metadata": {
    "collapsed": false
   },
   "outputs": [
    {
     "name": "stdout",
     "output_type": "stream",
     "text": [
      "{'timestamp': {'$regex': '2013'}}\n",
      "{'timestamp': True, 'V100_blinds_angle_N_o': True}\n"
     ]
    }
   ],
   "source": [
    "query = rs.dictionary_time('2013')\n",
    "x1, y1 = rs.get_tag_values(collection_series,query,projection,series_format='xy')"
   ]
  },
  {
   "cell_type": "code",
   "execution_count": 15,
   "metadata": {
    "collapsed": false
   },
   "outputs": [
    {
     "name": "stdout",
     "output_type": "stream",
     "text": [
      "{'tagname': 'V100_blinds_angle_N_o', 'timestamp': {'$regex': '2013'}}\n",
      "{'original_value': True, 'up_UCL': True, 'tagname': True, 'low_LCL': True, 'timestamp': True, 'new_value': True}\n",
      "The query for collection: Collection(Database(MongoClient(host=['192.168.6.132:27017'], document_class=dict, tz_aware=False, connect=True), 'Roberto'), 'filter_register') does not produce any value\n"
     ]
    }
   ],
   "source": [
    "query_register = query.copy() \n",
    "query_register['tagname'] = tag[0]\n",
    "projection = rs.projection(['timestamp','original_value','new_value','up_UCL','low_LCL','tagname'])\n",
    "df_register = rs.get_tag_values(collection_register,query_register,projection,series_format='DF')"
   ]
  },
  {
   "cell_type": "code",
   "execution_count": 16,
   "metadata": {
    "collapsed": false
   },
   "outputs": [
    {
     "name": "stdout",
     "output_type": "stream",
     "text": [
      "{'timestamp': {'$regex': '2013'}}\n",
      "{'timestamp': True, 'V100_blinds_angle_N_o': True}\n"
     ]
    }
   ],
   "source": [
    "projection = tag[0]\n",
    "x2, y2 = rs.get_tag_values(collection_filtered,query,projection,series_format='xy')"
   ]
  },
  {
   "cell_type": "code",
   "execution_count": 17,
   "metadata": {
    "collapsed": false
   },
   "outputs": [
    {
     "name": "stdout",
     "output_type": "stream",
     "text": [
      "{'tagname': 'V100_blinds_angle_N_o', 'timestamp': {'$regex': '2013'}}\n",
      "{'mean': True, 'timestamp': True, 'LCL': True, 'UCL': True, '75%': True, '25%': True}\n"
     ]
    }
   ],
   "source": [
    "query['tagname'] = tag[0]\n",
    "projection = rs.projection(['timestamp','mean','UCL','LCL','25%','75%'])\n",
    "df_daily = rs.get_tag_values(collection_daily,query,projection,series_format='DF')"
   ]
  },
  {
   "cell_type": "code",
   "execution_count": 18,
   "metadata": {
    "collapsed": false
   },
   "outputs": [],
   "source": [
    "assert isinstance(x1, list)\n",
    "trace0 = go.Scatter(\n",
    "  x= x1,\n",
    "  y= y1,\n",
    "  mode = 'original',\n",
    "  name = 'original'\n",
    ")\n",
    "trace1 = go.Scatter(\n",
    "  x= df_register['timestamp'],\n",
    "  y= df_register['up_UCL'],\n",
    "  mode = 'up_UCL',\n",
    "  name = 'up_UCL'\n",
    ")\n",
    "trace2 = go.Scatter(\n",
    "  x= df_register['timestamp'],\n",
    "  y= df_register['low_LCL'],\n",
    "  mode = 'low_LCL',\n",
    "  name = 'low_LCL'  \n",
    ")\n",
    "trace3 = go.Scatter(\n",
    "  x= x2,\n",
    "  y= y2,\n",
    "  mode = 'filter',\n",
    "  name = 'filter'  \n",
    ")\n",
    "trace4 = go.Scatter(\n",
    "  x= df_daily['timestamp'],\n",
    "  y= df_daily['mean'],\n",
    "  mode = 'mean',\n",
    "  name = 'mean'  \n",
    ")\n",
    "trace5 = go.Scatter(\n",
    "  x= df_daily['timestamp'],\n",
    "  y= df_daily['UCL'],\n",
    "  mode = 'UCL',\n",
    "  name = 'UCL'  \n",
    ")\n",
    "trace6 = go.Scatter(\n",
    "  x= df_daily['timestamp'],\n",
    "  y= df_daily['LCL'],\n",
    "  mode = 'LCL',\n",
    "  name = 'LCL'  \n",
    ")\n",
    "trace7 = go.Scatter(\n",
    "  x= df_daily['timestamp'],\n",
    "  y= df_daily['25%'],\n",
    "  mode = '25%',\n",
    "  name = '25%'  \n",
    ")\n",
    "trace8 = go.Scatter(\n",
    "  x= df_daily['timestamp'],\n",
    "  y= df_daily['75%'],\n",
    "  mode = '75%',\n",
    "  name = '75%'  \n",
    ")\n",
    "data = [trace0, trace1, trace2, trace3, trace4, trace5, trace6,trace7,trace8]"
   ]
  },
  {
   "cell_type": "code",
   "execution_count": 19,
   "metadata": {
    "collapsed": false
   },
   "outputs": [
    {
     "data": {
      "text/html": [
       "<iframe id=\"igraph\" scrolling=\"no\" style=\"border:none;\" seamless=\"seamless\" src=\"https://plot.ly/~Borreguin/6.embed\" height=\"525px\" width=\"100%\"></iframe>"
      ],
      "text/plain": [
       "<plotly.tools.PlotlyDisplay object>"
      ]
     },
     "execution_count": 19,
     "metadata": {},
     "output_type": "execute_result"
    }
   ],
   "source": [
    "py.iplot(data, filename = 'filter_example')\n",
    "\n"
   ]
  },
  {
   "cell_type": "code",
   "execution_count": null,
   "metadata": {
    "collapsed": true
   },
   "outputs": [],
   "source": []
  }
 ],
 "metadata": {
  "anaconda-cloud": {},
  "kernelspec": {
   "display_name": "Python [default]",
   "language": "python",
   "name": "python3"
  },
  "language_info": {
   "codemirror_mode": {
    "name": "ipython",
    "version": 3
   },
   "file_extension": ".py",
   "mimetype": "text/x-python",
   "name": "python",
   "nbconvert_exporter": "python",
   "pygments_lexer": "ipython3",
   "version": "3.5.2"
  }
 },
 "nbformat": 4,
 "nbformat_minor": 0
}
