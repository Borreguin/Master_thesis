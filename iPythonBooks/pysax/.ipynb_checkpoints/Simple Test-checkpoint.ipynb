{
 "cells": [
  {
   "cell_type": "markdown",
   "metadata": {},
   "source": [
    "## Symbolic Aggregate Approximation\n",
    "\n",
    "### 1.  [reference](http://dl.acm.org/citation.cfm?id=1285965)\n",
    "### 2. main usage for time series data:\n",
    "1. indexing and query\n",
    "2. calculating distance between time-sereis and thus perform clustering/classification\n",
    "3. symbolic representation for time series - inspiring text-mining related tasks such as association mining\n",
    "4. vector representation of time-series\n",
    "    \n",
    "### 3. algorithm steps\n",
    "\n",
    "1. Segment time-series data into gapless pieces (e.g., gap introduced by missing values or change of sampling frequences)\n",
    "\n",
    "2. Each piece will be SAXed into a sequence of \"words\" (e.g., \"abcdd\" \"aabcd\", ...). This is done by rolling a sliding window of length $window$ with a stride of length $stride$. If $stride$ < $window$, there will be overlapping of different windows. Later each window will be converted into one word\n",
    "\n",
    "3. for each sliding window:\n",
    "\n",
    "    3.1 whiten/normalize across the window (it is the step key to many problems)\n",
    "    \n",
    "    3.2 discretize on time axis (index) by grouping points into equal-sized bins (bin sizes could be fractional) - controlled by $nbins$. For each bin, use the mean of bin as local approximation.\n",
    "    \n",
    "    3.3 discretize on value axis by dividing values into $nlevels$ quantiles (equiprobability), for each level, calculate the \"letter\" by $cutpoint$ table\n",
    "    \n",
    "    3.4 at the end, each bin in a sliding window will be mapped to a letter, each window in the piece of time-series will be mapped to a word, and the whole piece of series will be a sentence\n",
    "    \n",
    "    3.5 calcualte the distance between two symoblic representations by their corresponding levels\n",
    "    \n",
    "    3.6 if a vector representation is necessary, each letter can be mapped to a scalar value, such as the mean of the  corresponding level."
   ]
  },
  {
   "cell_type": "markdown",
   "metadata": {},
   "source": [
    "## sax module test"
   ]
  },
  {
   "cell_type": "code",
   "execution_count": 1,
   "metadata": {
    "collapsed": true
   },
   "outputs": [],
   "source": [
    "import matplotlib.pyplot as plt\n",
    "%matplotlib inline"
   ]
  },
  {
   "cell_type": "code",
   "execution_count": 3,
   "metadata": {
    "collapsed": false
   },
   "outputs": [],
   "source": [
    "import pysax\n",
    "import numpy as np\n",
    "#reload(pysax)\n"
   ]
  },
  {
   "cell_type": "code",
   "execution_count": 4,
   "metadata": {
    "collapsed": false
   },
   "outputs": [
    {
     "data": {
      "text/plain": [
       "{'A': -0.67, 'B': -0.335, 'C': 0.335, 'D': 0.67}"
      ]
     },
     "execution_count": 4,
     "metadata": {},
     "output_type": "execute_result"
    }
   ],
   "source": [
    "sax = pysax.SAXModel(window=5, stride=2) \n",
    "sax.sym2vec"
   ]
  },
  {
   "cell_type": "code",
   "execution_count": 5,
   "metadata": {
    "collapsed": false
   },
   "outputs": [
    {
     "name": "stdout",
     "output_type": "stream",
     "text": [
      "0.4 0.545893762558\n",
      "-2.22044604925e-17 0.999999999817\n",
      "\n",
      " random variable: \n",
      "[-1.   0.9  0.5  0.5  0.3  0.2  0.1  1.   0.8  0.7] \n",
      " normalized variable: \n",
      "[-2.56460157  0.91592913  0.18318583  0.18318583 -0.18318583 -0.36637165\n",
      " -0.54955748  1.09911496  0.73274331  0.54955748]\n"
     ]
    }
   ],
   "source": [
    "## test normalization\n",
    "sax = pysax.SAXModel(window=3, stride=2) \n",
    "list(sax.sliding_window_index(10))\n",
    "ws = np.array([-1.0, 0.9 , 0.5, 0.5, 0.3, 0.2, 0.1, 1.0, 0.8, 0.7])\n",
    "print(ws.mean(), ws.std())\n",
    "ss = sax.whiten(ws)\n",
    "print(ss.mean(), ss.std()) \n",
    "print(\"\\n random variable: \\n{0} \\n normalized variable: \\n{1}\". format(ws,ss))"
   ]
  },
  {
   "cell_type": "code",
   "execution_count": 6,
   "metadata": {
    "collapsed": false
   },
   "outputs": [],
   "source": [
    "## explore binning\n",
    "from fractions import Fraction\n",
    "def binpack(xs, nbins):\n",
    "    xs = np.asarray(xs)\n",
    "    binsize = Fraction(len(xs), nbins)\n",
    "    wts = [1 for _ in range(int(binsize))] + [binsize-int(binsize)]\n",
    "    pos = 0\n",
    "    while pos < len(xs):\n",
    "        if wts[-1] == 0:\n",
    "            n = len(wts) - 1\n",
    "        else:\n",
    "            n = len(wts)\n",
    "        yield zip(xs[pos:(pos+n)], wts[:n])\n",
    "        pos += len(wts) - 1\n",
    "        rest_wts = binsize-(1-wts[-1])\n",
    "        wts = [1-wts[-1]] + [1 for _ in range(int(rest_wts))] + [rest_wts-int(rest_wts)]\n"
   ]
  },
  {
   "cell_type": "code",
   "execution_count": 7,
   "metadata": {
    "collapsed": false
   },
   "outputs": [
    {
     "name": "stdout",
     "output_type": "stream",
     "text": [
      "\n",
      "Range:[0, 1, 2, 3, 4, 5, 6, 7, 8, 9, 10, 11, 12, 13, 14, 15] \n",
      "binpack (5): \n",
      "[(0, 1), (1, 1), (2, 1), (3, Fraction(1, 5))]\n",
      "[(3, Fraction(4, 5)), (4, 1), (5, 1), (6, Fraction(2, 5))]\n",
      "[(6, Fraction(3, 5)), (7, 1), (8, 1), (9, Fraction(3, 5))]\n",
      "[(9, Fraction(2, 5)), (10, 1), (11, 1), (12, Fraction(4, 5))]\n",
      "[(12, Fraction(1, 5)), (13, 1), (14, 1), (15, 1)]\n",
      "\n",
      "binpack (4)\n",
      "[(0, 1), (1, 1), (2, 1), (3, 1)]\n",
      "[(4, Fraction(1, 1)), (5, 1), (6, 1), (7, 1)]\n",
      "[(8, Fraction(1, 1)), (9, 1), (10, 1), (11, 1)]\n",
      "[(12, Fraction(1, 1)), (13, 1), (14, 1), (15, 1)]\n",
      "\n",
      "binpack (3)\n",
      "[(0, 1), (1, Fraction(2, 3))]\n",
      "[(1, Fraction(1, 3)), (2, 1), (3, Fraction(1, 3))]\n",
      "[(3, Fraction(2, 3)), (4, 1)]\n"
     ]
    }
   ],
   "source": [
    "xs = list(range(0, 16))\n",
    "print(\"\\nRange:{0} \\nbinpack (5): \". format(xs))\n",
    "r = list(list(binpack(xs, 5)))\n",
    "for item in r:\n",
    "    print(list(item))\n",
    "\n",
    "print(\"\\nbinpack (4)\")\n",
    "xs = range(0, 16)\n",
    "r = list(binpack(xs, 4))\n",
    "for item in r:\n",
    "    print(list(item))\n",
    "\n",
    "print(\"\\nbinpack (3)\")\n",
    "xs = range(0, 5)\n",
    "r = list(binpack(xs, 3))\n",
    "for item in r:\n",
    "    print(list(item))"
   ]
  },
  {
   "cell_type": "code",
   "execution_count": 8,
   "metadata": {
    "collapsed": false
   },
   "outputs": [
    {
     "name": "stdout",
     "output_type": "stream",
     "text": [
      "[array([1.0, 0.6666666666666666], dtype=object), array([0.3333333333333333, 1.0, 0.3333333333333333], dtype=object), array([0.6666666666666666, 1.0], dtype=object)]\n",
      "\n",
      "\n",
      "[array([ 1.,  1.,  1.]), array([1.0, 1.0, 1.0], dtype=object), array([1.0, 1.0, 1.0], dtype=object)]\n"
     ]
    }
   ],
   "source": [
    "## test binning\n",
    "sax = pysax.SAXModel(nbins=3) \n",
    "print(list(sax.binpack(np.ones(5))))\n",
    "print('\\n') \n",
    "print(list(sax.binpack(np.ones(9))))"
   ]
  },
  {
   "cell_type": "code",
   "execution_count": 9,
   "metadata": {
    "collapsed": false
   },
   "outputs": [
    {
     "name": "stdout",
     "output_type": "stream",
     "text": [
      "[-1.   0.9  0.5  0.5  0.3  0.2  0.1  1.   0.8  0.7]\n",
      "[A, C, C, C, B, B, B, C, C, C]\n",
      "Categories (3, object): [A < B < C]\n"
     ]
    }
   ],
   "source": [
    "## explore symbolization\n",
    "import pandas as pd\n",
    "cutpoints = [-np.inf, -0.43, 0.43, np.inf]\n",
    "#xs = np.random.random(10)\n",
    "xs = ws\n",
    "v = pd.cut(xs, bins = cutpoints, labels=[\"A\", \"B\", \"C\"])\n",
    "print(\"{0}\\n{1}\".format(xs,v))"
   ]
  },
  {
   "cell_type": "code",
   "execution_count": 10,
   "metadata": {
    "collapsed": false
   },
   "outputs": [
    {
     "name": "stdout",
     "output_type": "stream",
     "text": [
      "[-1.   0.9  0.5  0.5  0.3  0.2  0.1  1.   0.8  0.7]\n"
     ]
    },
    {
     "data": {
      "text/plain": [
       "[A, D, C, C, C, C, C, D, D, D]\n",
       "Categories (4, object): [A < B < C < D]"
      ]
     },
     "execution_count": 10,
     "metadata": {},
     "output_type": "execute_result"
    }
   ],
   "source": [
    "#xs = np.random.randn(10)\n",
    "print(xs)\n",
    "sax = pysax.SAXModel(window=2, stride=2) \n",
    "sax.symbolize(xs)"
   ]
  },
  {
   "cell_type": "code",
   "execution_count": 17,
   "metadata": {
    "collapsed": false,
    "scrolled": false
   },
   "outputs": [
    {
     "name": "stdout",
     "output_type": "stream",
     "text": [
      "[-1.   0.9  0.5  0.5  0.3  0.2  0.1  1.   0.8  0.7]\n"
     ]
    },
    {
     "data": {
      "text/plain": [
       "'adccbbbddc'"
      ]
     },
     "execution_count": 17,
     "metadata": {},
     "output_type": "execute_result"
    }
   ],
   "source": [
    "sax = pysax.SAXModel(nbins = 5, alphabet=\"abcd\")\n",
    "#xs = np.random.randn(20) * 2 + 1.\n",
    "print(xs)\n",
    "sax.symbolize_window(xs)"
   ]
  },
  {
   "cell_type": "code",
   "execution_count": 15,
   "metadata": {
    "collapsed": false,
    "scrolled": true
   },
   "outputs": [
    {
     "name": "stdout",
     "output_type": "stream",
     "text": [
      "[-1.   0.9  0.5  0.5  0.3  0.2  0.1  1.   0.8  0.7]\n",
      "['ADCCC', 'CBAAD']\n",
      "[A, D, C, C, C, C, C, D, D, D]\n",
      "Categories (4, object): [A < B < C < D]\n"
     ]
    },
    {
     "data": {
      "image/png": "[encoded data removed]",
      "text/plain": [
       "<matplotlib.figure.Figure at 0x7f3cc161e9b0>"
      ]
     },
     "metadata": {},
     "output_type": "display_data"
    }
   ],
   "source": [
    "sax = pysax.SAXModel(window=5, stride = 3, nbins = 5, alphabet=\"ABCD\")\n",
    "#xs = np.random.randn(103) * 2 + np.arange(103) * 0.03\n",
    "print(xs)\n",
    "plt.plot(xs)\n",
    "print(sax.symbolize_signal(xs))\n",
    "print(sax.symbolize(xs))"
   ]
  },
  {
   "cell_type": "code",
   "execution_count": 16,
   "metadata": {
    "collapsed": false
   },
   "outputs": [
    {
     "name": "stdout",
     "output_type": "stream",
     "text": [
      "['ADCCC', 'CBAAD']\n",
      "size of xs 10 \n",
      " ts_indices: [0, 3]\n",
      "\n",
      "word_indices:\n",
      " [0.0, 0.3333333333333333, 0.6666666666666666, 1.0, 1.3333333333333333, 1.6666666666666667, 2.0, 2.3333333333333335, 2.6666666666666665, 3.0]\n"
     ]
    },
    {
     "data": {
      "image/png": "[encoded data removed]",
      "text/plain": [
       "<matplotlib.figure.Figure at 0x7f3cc16a4b00>"
      ]
     },
     "metadata": {},
     "output_type": "display_data"
    }
   ],
   "source": [
    "#reload(pysax)\n",
    "#sax = pysax.SAXModel(window=20, stride = 5, nbins = 5, alphabet=\"ABCD\")\n",
    "#xs = np.random.randn(103) * 2 + np.arange(103) * 0.03\n",
    "words = sax.symbolize_signal(xs)\n",
    "ts_indices = sax.convert_index(word_indices=range(len(words)))\n",
    "word_indices = sax.convert_index(ts_indices = range(len(xs)))\n",
    "print(words)\n",
    "plt.plot(word_indices)\n",
    "print(\"size of xs {0} \\n ts_indices: {1}\".format(len(xs),ts_indices))\n",
    "print(\"\\nword_indices:\\n\",word_indices)"
   ]
  },
  {
   "cell_type": "markdown",
   "metadata": {},
   "source": [
    "#The parallel functionality only works in unix/linux systems the following part is only to see the performance of this approach"
   ]
  },
  {
   "cell_type": "code",
   "execution_count": null,
   "metadata": {
    "collapsed": false
   },
   "outputs": [],
   "source": [
    "\n",
    "import pysax\n",
    "import numpy as np \n",
    "from joblib import Parallel, delayed\n",
    "#reload(pysax)\n",
    "sax = pysax.SAXModel(window=20, stride = 5, nbins = 5, alphabet=\"ABCD\")\n",
    "N = 10000\n",
    "xs = np.random.randn(N) * 2 + np.arange(N) * 0.03\n",
    "#plt.plot(xs)\n",
    "%time psymbols = sax.symbolize_signal(xs, parallel=\"joblib\", n_jobs=30)\n",
    "#%time psymbols = sax.symbolize_signal(xs, n_jobs=30)\n"
   ]
  },
  {
   "cell_type": "code",
   "execution_count": null,
   "metadata": {
    "collapsed": false
   },
   "outputs": [],
   "source": [
    "sax = pysax.SAXModel(window=20, stride = 5, nbins = 5, alphabet=\"ABCD\")\n",
    "#xs = np.random.randn(1000000) * 2 + np.arange(1000000) * 0.03\n",
    "#plt.plot(xs)\n",
    "%time symbols = sax.symbolize_signal(xs)\n",
    "print(np.all(psymbols==symbols))"
   ]
  },
  {
   "cell_type": "code",
   "execution_count": null,
   "metadata": {
    "collapsed": false
   },
   "outputs": [],
   "source": [
    "## test symbol to vector\n",
    "%time vecs = sax.symbol_to_vector(psymbols)\n",
    "vecs.shape"
   ]
  },
  {
   "cell_type": "code",
   "execution_count": null,
   "metadata": {
    "collapsed": false
   },
   "outputs": [],
   "source": [
    "## test symbol distance\n",
    "#reload(pysax)\n",
    "sax = pysax.SAXModel(window=20, stride = 5, nbins = 5, alphabet=\"ABCD\")\n",
    "sax.symbol_distance(psymbols[0], psymbols[1]), sax.symbol_distance(psymbols[1], psymbols[2])"
   ]
  },
  {
   "cell_type": "code",
   "execution_count": null,
   "metadata": {
    "collapsed": false
   },
   "outputs": [],
   "source": [
    "v1, v2, v3 = sax.symbol_to_vector(psymbols[:3])"
   ]
  },
  {
   "cell_type": "code",
   "execution_count": null,
   "metadata": {
    "collapsed": false
   },
   "outputs": [],
   "source": [
    "np.sqrt(np.sum( (v1-v2)**2 )), np.sqrt(np.sum( (v2-v3)**2 ))"
   ]
  },
  {
   "cell_type": "code",
   "execution_count": null,
   "metadata": {
    "collapsed": false
   },
   "outputs": [],
   "source": [
    "psymbols[:3]"
   ]
  },
  {
   "cell_type": "code",
   "execution_count": null,
   "metadata": {
    "collapsed": false
   },
   "outputs": [],
   "source": [
    "## test paa vectors\n",
    "import pysax\n",
    "import numpy as np \n",
    "#reload(pysax)\n",
    "sax = pysax.SAXModel(window=20, stride = 5, nbins = 5, alphabet=\"ABCD\")\n",
    "xs = np.random.randn(N) * 2 + np.arange(N) * 0.03\n",
    "#plt.plot(xs)\n",
    "#%time vecs = sax.signal_to_paa_vector(xs, n_jobs=30)\n",
    "time vecs = sax.signal_to_paa_vector(xs, n_jobs=30)"
   ]
  },
  {
   "cell_type": "code",
   "execution_count": null,
   "metadata": {
    "collapsed": false
   },
   "outputs": [],
   "source": [
    "vecs[:10, :]"
   ]
  },
  {
   "cell_type": "code",
   "execution_count": null,
   "metadata": {
    "collapsed": false
   },
   "outputs": [],
   "source": [
    "psymbols[:10]"
   ]
  },
  {
   "cell_type": "code",
   "execution_count": null,
   "metadata": {
    "collapsed": true
   },
   "outputs": [],
   "source": []
  }
 ],
 "metadata": {
  "anaconda-cloud": {},
  "hide_input": false,
  "kernelspec": {
   "display_name": "Python [conda root]",
   "language": "python",
   "name": "conda-root-py"
  }
 },
 "nbformat": 4,
 "nbformat_minor": 0
}
